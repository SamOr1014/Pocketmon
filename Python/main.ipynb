{
 "cells": [
  {
   "cell_type": "code",
   "execution_count": 1,
   "metadata": {},
   "outputs": [],
   "source": [
    "import pytesseract\n",
    "import os\n",
    "import numpy as np\n",
    "import cv2\n",
    "from PIL import Image\n",
    "from matplotlib import pyplot as plt"
   ]
  },
  {
   "cell_type": "code",
   "execution_count": 2,
   "metadata": {},
   "outputs": [],
   "source": [
    "pytesseract.pytesseract.tesseract_cmd = r\"C:\\Program Files\\Tesseract-OCR\\tesseract.exe\""
   ]
  },
  {
   "cell_type": "code",
   "execution_count": 3,
   "metadata": {},
   "outputs": [],
   "source": [
    "def main(img):\n",
    "    img_path = os.path.join('./data/',img + '.jpeg')\n",
    "    print(img_path)\n",
    "    img = Image.open(img_path)\n",
    "    # img.thumbnail((800,800), Image.ANTIALIAS)\n",
    "    print(pytesseract.image_to_string(img, lang=\"chi_tra\"))"
   ]
  },
  {
   "cell_type": "code",
   "execution_count": 4,
   "metadata": {},
   "outputs": [],
   "source": [
    "def read_img_cv(img):\n",
    "    img_path = os.path.join('./data/',img + '.jpeg')\n",
    "    print(img_path)\n",
    "    img_cv = cv2.imread(img_path)\n",
    "    img_cv_resized = cv2.resize(img_cv, (1000,1000))\n",
    "    ## img is np array with BGR\n",
    "    ## change to RGB for pytesseract\n",
    "    # plt.subplot(121),plt.imshow(img_cv)\n",
    "\n",
    "    # dst = cv2.fastNlMeansDenoisingColored(img_cv,None,10,10,7,21)\n",
    "    # plt.subplot(121),plt.imshow(dst)\n",
    "\n",
    "    # img_rgb = cv2.cvtColor(img_cv, cv2.COLOR_BGR2RGB)\n",
    "    text = pytesseract.image_to_string(img_cv, lang=\"chi_tra\")\n",
    "    print(text)"
   ]
  },
  {
   "cell_type": "code",
   "execution_count": 5,
   "metadata": {},
   "outputs": [
    {
     "name": "stdout",
     "output_type": "stream",
     "text": [
      "./data/123.jpeg\n",
      "CCMEDBUY'\n",
      "\n",
      "COMEBUYTEA\n",
      "COMEBUYTEA 荃灣\n",
      "\n",
      "清留意叫號: 194\n",
      "\n",
      "10Q010122080400196\n",
      "Q22/08/04 14:02:06\n",
      "綠茶(冷)              $26.0x1\n",
      "原汁, 堵天晶球      $13.0x1\n",
      "冰, 附騰袋\n",
      "$0.5Xx 1\n",
      "\n",
      "用\n",
      "WNKS$S3S.S\n",
      "\n",
      "總計: HK$39.5\n",
      "\n",
      "付鞠方式,      八達通\n",
      "付歎金額:            HK$39.5\n",
      "\n",
      "八達通付款\n",
      "\n",
      "則號                  “530B96\n",
      "光革記  |            較6\n",
      "上一次於 2022-07Z-28\n",
      "\n",
      "PO0s#1 19o\n",
      "\n",
      "\n"
     ]
    }
   ],
   "source": [
    "# read_img_cv('12345')\n",
    "\n",
    "main('123')"
   ]
  }
 ],
 "metadata": {
  "kernelspec": {
   "display_name": "Python 3.9.13 64-bit",
   "language": "python",
   "name": "python3"
  },
  "language_info": {
   "codemirror_mode": {
    "name": "ipython",
    "version": 3
   },
   "file_extension": ".py",
   "mimetype": "text/x-python",
   "name": "python",
   "nbconvert_exporter": "python",
   "pygments_lexer": "ipython3",
   "version": "3.9.13"
  },
  "orig_nbformat": 4,
  "vscode": {
   "interpreter": {
    "hash": "cf92aa13fedf815d5c8dd192b8d835913fde3e8bc926b2a0ad6cc74ef2ba3ca2"
   }
  }
 },
 "nbformat": 4,
 "nbformat_minor": 2
}
